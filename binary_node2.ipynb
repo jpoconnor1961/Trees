{
 "cells": [
  {
   "cell_type": "code",
   "execution_count": 23,
   "id": "2396e2b7-13a7-48c8-a469-bfa9eeabe9df",
   "metadata": {},
   "outputs": [
    {
     "name": "stdout",
     "output_type": "stream",
     "text": [
      "Root:\n",
      "  A:\n",
      "    C:\n",
      "    D:\n",
      "  B:\n",
      "    None\n",
      "    E:\n",
      "      F:\n",
      "      None\n",
      "\n",
      "A:\n",
      "  C:\n",
      "  D:\n",
      "\n"
     ]
    }
   ],
   "source": [
    "class BinaryNode:\n",
    "\n",
    "    def __init__(self, value):\n",
    "        self.value = value\n",
    "        self.left_child = None\n",
    "        self.right_child = None\n",
    "\n",
    "    def add_left(self, child):\n",
    "        self.left_child = child\n",
    "\n",
    "    def add_right(self, child):\n",
    "        self.right_child = child\n",
    "\n",
    "    def __str__(self):\n",
    "        return self._str_helper(0)  # Call a helper method that can handle the level parameter\n",
    "\n",
    "    def _str_helper(self, level = 0):  # This is a helper method that does the actual string formatting with level\n",
    "        if self.value != None:\n",
    "            result = level*indent+f\"{self.value}:\\n\"\n",
    "        else:\n",
    "            result = \"\"\n",
    "        if self.left_child == None and self.right_child == None:\n",
    "            result += \"\"\n",
    "        elif self.left_child == None and self.right_child != None: \n",
    "            result += (level+1)*indent+\"None\\n\"\n",
    "            result += f\"{self.right_child._str_helper(level+1)}\"\n",
    "        elif self.left_child != None and self.right_child == None:\n",
    "            result += f\"{self.left_child._str_helper(level+1)}\"\n",
    "            result += (level+1)*indent+\"None\\n\"\n",
    "        else:\n",
    "            result += f\"{self.left_child._str_helper(level+1)}\"\n",
    "            result += f\"{self.right_child._str_helper(level+1)}\"\n",
    "        return result\n",
    "\n",
    "indent = \"  \"\n",
    "\n",
    "root = BinaryNode('Root')\n",
    "a = BinaryNode('A')\n",
    "b = BinaryNode('B')\n",
    "root.add_left(a)\n",
    "root.add_right(b)\n",
    "c = BinaryNode('C')\n",
    "d = BinaryNode('D')\n",
    "a.add_left(c)\n",
    "a.add_right(d)\n",
    "e = BinaryNode('E')\n",
    "b.add_right(e)\n",
    "f = BinaryNode('F')\n",
    "e.add_left(f)\n",
    "\n",
    "print(root)\n",
    "print(a)"
   ]
  },
  {
   "cell_type": "code",
   "execution_count": null,
   "id": "89bc410a-d3f2-470c-87c9-0719ff42bfbc",
   "metadata": {},
   "outputs": [],
   "source": []
  }
 ],
 "metadata": {
  "kernelspec": {
   "display_name": "Python [conda env:base] *",
   "language": "python",
   "name": "conda-base-py"
  },
  "language_info": {
   "codemirror_mode": {
    "name": "ipython",
    "version": 3
   },
   "file_extension": ".py",
   "mimetype": "text/x-python",
   "name": "python",
   "nbconvert_exporter": "python",
   "pygments_lexer": "ipython3",
   "version": "3.12.7"
  }
 },
 "nbformat": 4,
 "nbformat_minor": 5
}
