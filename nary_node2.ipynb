{
 "cells": [
  {
   "cell_type": "code",
   "execution_count": 2,
   "id": "b569de86-f125-4c0c-bee2-bb2de8c37d7c",
   "metadata": {},
   "outputs": [
    {
     "name": "stdout",
     "output_type": "stream",
     "text": [
      "Root:\n",
      "   A:\n",
      "     D:\n",
      "       G:\n",
      "     E:\n",
      "   B:\n",
      "   C:\n",
      "     F:\n",
      "       H:\n",
      "       I:\n",
      "\n",
      "A:\n",
      "   D:\n",
      "     G:\n",
      "   E:\n",
      "\n"
     ]
    }
   ],
   "source": [
    "class NaryNode:\n",
    "\n",
    "    def __init__(self, value):\n",
    "        self.value = value\n",
    "        self.children = []\n",
    "\n",
    "    def add_child(self, child):\n",
    "        self.children.append(child)\n",
    "\n",
    "    def __str__(self):\n",
    "        return self._str_helper(0)  # Call a helper method that can handle the level parameter\n",
    "\n",
    "    def _str_helper(self, level = 0):  # This is a helper method that does the actual string formatting with level\n",
    "        if self.value != []:\n",
    "            result = level*indent+f\"{self.value}:\\n\"\n",
    "        else:\n",
    "            result = \"\"\n",
    "        if self.children == []:\n",
    "            result += \"\"\n",
    "        else:\n",
    "            for child in self.children:\n",
    "                result += f\" {child._str_helper(level+1)}\"\n",
    "        return result\n",
    "\n",
    "indent = \"  \"\n",
    "\n",
    "root = NaryNode('Root')\n",
    "a = NaryNode('A')\n",
    "b = NaryNode('B')\n",
    "c = NaryNode('C')\n",
    "root.add_child(a)\n",
    "root.add_child(b)\n",
    "root.add_child(c)\n",
    "d = NaryNode('D')\n",
    "e = NaryNode('E')\n",
    "a.add_child(d)\n",
    "a.add_child(e)\n",
    "f = NaryNode('F')\n",
    "g = NaryNode('G')\n",
    "c.add_child(f)\n",
    "d.add_child(g)\n",
    "h = NaryNode('H')\n",
    "i = NaryNode('I')\n",
    "f.add_child(h)\n",
    "f.add_child(i)\n",
    "\n",
    "print(root)\n",
    "print(a)"
   ]
  },
  {
   "cell_type": "code",
   "execution_count": null,
   "id": "739286f9-4949-46cf-89a7-3247578a67ba",
   "metadata": {},
   "outputs": [],
   "source": []
  }
 ],
 "metadata": {
  "kernelspec": {
   "display_name": "Python [conda env:base] *",
   "language": "python",
   "name": "conda-base-py"
  },
  "language_info": {
   "codemirror_mode": {
    "name": "ipython",
    "version": 3
   },
   "file_extension": ".py",
   "mimetype": "text/x-python",
   "name": "python",
   "nbconvert_exporter": "python",
   "pygments_lexer": "ipython3",
   "version": "3.12.7"
  }
 },
 "nbformat": 4,
 "nbformat_minor": 5
}
