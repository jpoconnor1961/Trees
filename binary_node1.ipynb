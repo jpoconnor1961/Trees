{
 "cells": [
  {
   "cell_type": "code",
   "execution_count": 3,
   "id": "2396e2b7-13a7-48c8-a469-bfa9eeabe9df",
   "metadata": {},
   "outputs": [
    {
     "name": "stdout",
     "output_type": "stream",
     "text": [
      "Root: A B\n",
      "A: C D\n",
      "B: None E\n",
      "C: None None\n",
      "D: None None\n",
      "E: F None\n",
      "F: None None\n"
     ]
    }
   ],
   "source": [
    "class BinaryNode:\n",
    "\n",
    "    def __init__(self, value):\n",
    "        self.value = value\n",
    "        self.left_child_value = None\n",
    "        self.right_child_value = None\n",
    "\n",
    "    def add_left(self, left_child_value):\n",
    "        self.left_child_value = left_child_value\n",
    "\n",
    "    def add_right(self, right_child_value):\n",
    "        self.right_child_value = right_child_value\n",
    "\n",
    "    def __str__(self):\n",
    "        return f\"{self.value}: {self.left_child_value} {self.right_child_value}\"\n",
    "\n",
    "Root = BinaryNode('Root')\n",
    "A = BinaryNode('A')\n",
    "B = BinaryNode('B')\n",
    "Root.add_left('A')\n",
    "Root.add_right('B')\n",
    "C = BinaryNode('C')\n",
    "D = BinaryNode('D')\n",
    "A.add_left('C')\n",
    "A.add_right('D')\n",
    "E = BinaryNode('E')\n",
    "B.add_right('E')\n",
    "F = BinaryNode('F')\n",
    "E.add_left('F')\n",
    "\n",
    "print(Root)\n",
    "print(A)\n",
    "print(B)\n",
    "print(C)\n",
    "print(D)\n",
    "print(E)\n",
    "print(F)\n"
   ]
  },
  {
   "cell_type": "code",
   "execution_count": null,
   "id": "89bc410a-d3f2-470c-87c9-0719ff42bfbc",
   "metadata": {},
   "outputs": [],
   "source": []
  }
 ],
 "metadata": {
  "kernelspec": {
   "display_name": "Python [conda env:base] *",
   "language": "python",
   "name": "conda-base-py"
  },
  "language_info": {
   "codemirror_mode": {
    "name": "ipython",
    "version": 3
   },
   "file_extension": ".py",
   "mimetype": "text/x-python",
   "name": "python",
   "nbconvert_exporter": "python",
   "pygments_lexer": "ipython3",
   "version": "3.12.7"
  }
 },
 "nbformat": 4,
 "nbformat_minor": 5
}
