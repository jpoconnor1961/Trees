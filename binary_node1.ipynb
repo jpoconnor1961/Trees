{
 "cells": [
  {
   "cell_type": "code",
   "execution_count": 5,
   "id": "2396e2b7-13a7-48c8-a469-bfa9eeabe9df",
   "metadata": {},
   "outputs": [
    {
     "name": "stdout",
     "output_type": "stream",
     "text": [
      "Root: A B\n",
      "A: C D\n",
      "B: None E\n",
      "C: None None\n",
      "D: None None\n",
      "E: F None\n",
      "F: None None\n"
     ]
    }
   ],
   "source": [
    "class BinaryNode:\n",
    "\n",
    "    def __init__(self, value):\n",
    "        self.value = value\n",
    "        self.left_child = None\n",
    "        self.right_child = None\n",
    "\n",
    "    def add_left(self, child):\n",
    "        self.left_child = child\n",
    "\n",
    "    def add_right(self, child):\n",
    "        self.right_child = child\n",
    "\n",
    "    def __str__(self):\n",
    "        result = f\"{self.value}:\"\n",
    "        if self.left_child == None:\n",
    "            result += \" None\"\n",
    "        else:\n",
    "            result += f\" {self.left_child.value}\"\n",
    "        if self.right_child == None:\n",
    "            result += \" None\"\n",
    "        else:\n",
    "            result += f\" {self.right_child.value}\"\n",
    "        return result\n",
    "\n",
    "root = BinaryNode('Root')\n",
    "a = BinaryNode('A')\n",
    "b = BinaryNode('B')\n",
    "root.add_left(a)\n",
    "root.add_right(b)\n",
    "c = BinaryNode('C')\n",
    "d = BinaryNode('D')\n",
    "a.add_left(c)\n",
    "a.add_right(d)\n",
    "e = BinaryNode('E')\n",
    "b.add_right(e)\n",
    "f = BinaryNode('F')\n",
    "e.add_left(f)\n",
    "\n",
    "print(root)\n",
    "print(a)\n",
    "print(b)\n",
    "print(c)\n",
    "print(d)\n",
    "print(e)\n",
    "print(f)\n"
   ]
  },
  {
   "cell_type": "code",
   "execution_count": null,
   "id": "89bc410a-d3f2-470c-87c9-0719ff42bfbc",
   "metadata": {},
   "outputs": [],
   "source": []
  }
 ],
 "metadata": {
  "kernelspec": {
   "display_name": "Python [conda env:base] *",
   "language": "python",
   "name": "conda-base-py"
  },
  "language_info": {
   "codemirror_mode": {
    "name": "ipython",
    "version": 3
   },
   "file_extension": ".py",
   "mimetype": "text/x-python",
   "name": "python",
   "nbconvert_exporter": "python",
   "pygments_lexer": "ipython3",
   "version": "3.12.7"
  }
 },
 "nbformat": 4,
 "nbformat_minor": 5
}
