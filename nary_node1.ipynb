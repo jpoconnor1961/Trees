{
 "cells": [
  {
   "cell_type": "code",
   "execution_count": 9,
   "id": "b569de86-f125-4c0c-bee2-bb2de8c37d7c",
   "metadata": {},
   "outputs": [
    {
     "name": "stdout",
     "output_type": "stream",
     "text": [
      "Root: A B C\n",
      "A: D E\n",
      "B:\n",
      "C: F\n",
      "D: G\n",
      "E:\n",
      "F: H I\n",
      "G:\n",
      "H:\n",
      "I:\n"
     ]
    }
   ],
   "source": [
    "class NaryNode:\n",
    "\n",
    "    def __init__(self, value):\n",
    "        self.value = value\n",
    "        self.children = []\n",
    "\n",
    "    def add_child(self, child):\n",
    "        self.children.append(child)\n",
    "\n",
    "    def __str__(self):\n",
    "        result = f\"{self.value}:\"\n",
    "        for child in self.children:\n",
    "            result += f\" {child.value}\"\n",
    "        return result\n",
    "\n",
    "root = NaryNode('Root')\n",
    "a = NaryNode('A')\n",
    "b = NaryNode('B')\n",
    "c = NaryNode('C')\n",
    "root.add_child(a)\n",
    "root.add_child(b)\n",
    "root.add_child(c)\n",
    "d = NaryNode('D')\n",
    "e = NaryNode('E')\n",
    "a.add_child(d)\n",
    "a.add_child(e)\n",
    "f = NaryNode('F')\n",
    "g = NaryNode('G')\n",
    "c.add_child(f)\n",
    "d.add_child(g)\n",
    "h = NaryNode('H')\n",
    "i = NaryNode('I')\n",
    "f.add_child(h)\n",
    "f.add_child(i)\n",
    "\n",
    "print(root)\n",
    "print(a)\n",
    "print(b)\n",
    "print(c)\n",
    "print(d)\n",
    "print(e)\n",
    "print(f)\n",
    "print(g)\n",
    "print(h)\n",
    "print(i)\n"
   ]
  },
  {
   "cell_type": "code",
   "execution_count": null,
   "id": "739286f9-4949-46cf-89a7-3247578a67ba",
   "metadata": {},
   "outputs": [],
   "source": []
  }
 ],
 "metadata": {
  "kernelspec": {
   "display_name": "Python [conda env:base] *",
   "language": "python",
   "name": "conda-base-py"
  },
  "language_info": {
   "codemirror_mode": {
    "name": "ipython",
    "version": 3
   },
   "file_extension": ".py",
   "mimetype": "text/x-python",
   "name": "python",
   "nbconvert_exporter": "python",
   "pygments_lexer": "ipython3",
   "version": "3.12.7"
  }
 },
 "nbformat": 4,
 "nbformat_minor": 5
}
