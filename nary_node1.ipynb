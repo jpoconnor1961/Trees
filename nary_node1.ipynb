{
 "cells": [
  {
   "cell_type": "code",
   "execution_count": 6,
   "id": "b569de86-f125-4c0c-bee2-bb2de8c37d7c",
   "metadata": {},
   "outputs": [
    {
     "name": "stdout",
     "output_type": "stream",
     "text": [
      "Root: A B C\n",
      "A: D E\n",
      "B: \n",
      "C: F\n",
      "D: G\n",
      "E: \n",
      "F: H I\n",
      "G: \n",
      "H: \n",
      "I: \n"
     ]
    }
   ],
   "source": [
    "class NaryNode:\n",
    "\n",
    "    def __init__(self, value):\n",
    "        self.value = value\n",
    "        self.children = []\n",
    "\n",
    "    def add_child(self, child):\n",
    "        self.children.append(child)\n",
    "\n",
    "    def __str__(self):\n",
    "        return f\"{self.value}: {' '.join(self.children)}\"\n",
    "\n",
    "Root = NaryNode('Root')\n",
    "A = NaryNode('A')\n",
    "B = NaryNode('B')\n",
    "C = NaryNode('C')\n",
    "Root.add_child('A')\n",
    "Root.add_child('B')\n",
    "Root.add_child('C')\n",
    "D = NaryNode('D')\n",
    "E = NaryNode('E')\n",
    "A.add_child('D')\n",
    "A.add_child('E')\n",
    "F = NaryNode('F')\n",
    "G = NaryNode('G')\n",
    "C.add_child('F')\n",
    "D.add_child('G')\n",
    "H = NaryNode('H')\n",
    "I = NaryNode('I')\n",
    "F.add_child('H')\n",
    "F.add_child('I')\n",
    "\n",
    "print(Root)\n",
    "print(A)\n",
    "print(B)\n",
    "print(C)\n",
    "print(D)\n",
    "print(E)\n",
    "print(F)\n",
    "print(G)\n",
    "print(H)\n",
    "print(I)\n"
   ]
  },
  {
   "cell_type": "code",
   "execution_count": null,
   "id": "739286f9-4949-46cf-89a7-3247578a67ba",
   "metadata": {},
   "outputs": [],
   "source": []
  }
 ],
 "metadata": {
  "kernelspec": {
   "display_name": "Python [conda env:base] *",
   "language": "python",
   "name": "conda-base-py"
  },
  "language_info": {
   "codemirror_mode": {
    "name": "ipython",
    "version": 3
   },
   "file_extension": ".py",
   "mimetype": "text/x-python",
   "name": "python",
   "nbconvert_exporter": "python",
   "pygments_lexer": "ipython3",
   "version": "3.12.7"
  }
 },
 "nbformat": 4,
 "nbformat_minor": 5
}
